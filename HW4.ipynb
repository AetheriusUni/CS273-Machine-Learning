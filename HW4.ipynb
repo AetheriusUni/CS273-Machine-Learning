{
 "cells": [
  {
   "cell_type": "markdown",
   "metadata": {},
   "source": [
    "# PROBLEM 1  \n",
    "PART 1"
   ]
  },
  {
   "cell_type": "code",
   "execution_count": 2,
   "metadata": {},
   "outputs": [
    {
     "name": "stdout",
     "output_type": "stream",
     "text": [
      "Min: [ 1.9350e+02  1.5250e+02  2.1425e+02  1.5250e+02  1.0000e+01  0.0000e+00\n",
      "  0.0000e+00  0.0000e+00  8.7589e-01  0.0000e+00  0.0000e+00  0.0000e+00\n",
      "  9.9049e-01 -9.9990e+02]\n",
      "Max:  [2.5300e+02 2.4900e+02 2.5250e+02 2.5250e+02 3.1048e+04 1.3630e+04\n",
      " 9.2380e+03 1.2517e+02 1.9167e+01 1.3230e+01 6.6761e+01 7.3902e+01\n",
      " 9.7504e+02 7.9720e+02]\n",
      "Mean: [2.41601104e+02 2.27376571e+02 2.41554150e+02 2.32826768e+02\n",
      " 3.08992337e+03 9.28259020e+02 1.38093830e+02 3.24857933e+00\n",
      " 6.49865290e+00 2.09713912e+00 4.21766041e+00 2.69171845e+00\n",
      " 1.02715905e+01 5.78148050e+00]\n",
      "Var:  [8.34991711e+01 9.26255931e+01 3.52863398e+01 9.76257317e+01\n",
      " 1.56515138e+07 3.08176182e+06 4.43951746e+05 8.21948502e+00\n",
      " 6.40504819e+00 4.36344047e+00 4.08637188e+00 2.19877847e+00\n",
      " 4.04646245e+02 3.40652055e+03]\n"
     ]
    }
   ],
   "source": [
    "import sys\n",
    "import numpy as np\n",
    "import mltools as ml\n",
    "import matplotlib.pyplot as plt\n",
    "\n",
    "#X IS FEATURE; Y IS CLASS\n",
    "# Data Loading\n",
    "X = np.genfromtxt('data/X_train.txt', delimiter=None)\n",
    "Y = np.genfromtxt('data/Y_train.txt', delimiter=None)\n",
    "X,Y = ml.shuffleData(X,Y)\n",
    "#200000, 14 = data points, features\n",
    "#need to see 14 things for each P1Part1\n",
    "#print(X.shape)\n",
    "\n",
    "print('Min:', np.min(X,axis=0))\n",
    "print('Max: ', np.max(X,axis=0))\n",
    "print('Mean:', np.mean(X,axis=0)) \n",
    "print('Var: ', np.var(X,axis=0))"
   ]
  },
  {
   "cell_type": "markdown",
   "metadata": {},
   "source": [
    "PART 2"
   ]
  },
  {
   "cell_type": "code",
   "execution_count": 4,
   "metadata": {},
   "outputs": [
    {
     "name": "stdout",
     "output_type": "stream",
     "text": [
      "Min: [ -5.06825502  -3.70669306  -4.49178684  -2.75468141  -0.78430675\n",
      "  -0.52787478  -0.20564186  -1.14881897  -2.01383162  -1.01639781\n",
      "  -2.11143073  -1.79556185  -0.4786462  -21.06311633]\n",
      "Max:  [ 1.23788346  2.07403114  1.72963578  1.93479594  7.07080987  7.04454509\n",
      " 13.38113519  8.07302215  4.18944349  4.43425142  6.26636908 27.00912207\n",
      " 50.25695516 15.39033346]\n",
      "Mean: [ 1.42499124e-14 -4.10410594e-15 -8.03216382e-14  2.47230292e-14\n",
      " -8.57092175e-17 -1.82376336e-16 -1.00675024e-16 -2.33648656e-15\n",
      " -8.89241875e-15 -2.85949042e-16 -2.39117615e-15 -9.33864097e-16\n",
      "  1.06157305e-15  2.20304330e-16]\n",
      "Var:  [1. 1. 1. 1. 1. 1. 1. 1. 1. 1. 1. 1. 1. 1.]\n"
     ]
    }
   ],
   "source": [
    "import sys\n",
    "import numpy as np\n",
    "import mltools as ml\n",
    "import matplotlib.pyplot as plt\n",
    "\n",
    "#X IS FEATURE; Y IS CLASS\n",
    "# Data Loading\n",
    "X = np.genfromtxt('data/X_train.txt', delimiter=None)\n",
    "Y = np.genfromtxt('data/Y_train.txt', delimiter=None)\n",
    "X,Y = ml.shuffleData(X,Y)\n",
    "\n",
    "#tr = training; va = validation\n",
    "Xtr, Xva, Ytr, Yva = ml.splitData(X, Y)\n",
    "#subsamples\n",
    "Xt, Yt = Xtr[:5000], Ytr[:5000] # subsample for efficiency (you can go higher)\n",
    "#rescaled subsample for training\n",
    "XtS, params = ml.rescale(Xt) # Normalize the features\n",
    "#rescaled subsampel for validation\n",
    "XvS, _ = ml.rescale(Xva, params) # Normalize the features\n",
    "\n",
    "print('Min:', np.min(XtS,axis=0)) \n",
    "print('Max: ', np.max(XtS,axis=0)) \n",
    "print('Mean:', np.mean(XtS,axis=0)) \n",
    "print('Var: ', np.var(XtS,axis=0)) "
   ]
  },
  {
   "cell_type": "markdown",
   "metadata": {},
   "source": [
    "# PROBLEM 2\n",
    "PART 1"
   ]
  },
  {
   "cell_type": "code",
   "execution_count": 26,
   "metadata": {
    "scrolled": true
   },
   "outputs": [
    {
     "data": {
      "image/png": "[encoded data removed]",
      "text/plain": [
       "<Figure size 432x288 with 1 Axes>"
      ]
     },
     "metadata": {
      "needs_background": "light"
     },
     "output_type": "display_data"
    },
    {
     "name": "stdout",
     "output_type": "stream",
     "text": [
      "Train AUC: [0.65659567 0.60882925 0.58519991 0.57245213 0.48775351 0.48775351\n",
      " 0.48775351 0.48775351 0.48775351 0.48775351]\n",
      "Validation AUC: [0.64904021 0.59645656 0.57084251 0.55757692 0.49730735 0.49730735\n",
      " 0.49730735 0.49730735 0.49730735 0.49730735]\n"
     ]
    }
   ],
   "source": [
    "import sys\n",
    "import numpy as np\n",
    "import mltools as ml\n",
    "import matplotlib.pyplot as plt\n",
    "\n",
    "#X IS FEATURE; Y IS CLASS\n",
    "# Data Loading\n",
    "X = np.genfromtxt('data/X_train.txt', delimiter=None)\n",
    "Y = np.genfromtxt('data/Y_train.txt', delimiter=None)\n",
    "X,Y = ml.shuffleData(X,Y)\n",
    "\n",
    "Xtr, Xva, Ytr, Yva = ml.splitData(X, Y)\n",
    "#subsamples\n",
    "Xt, Yt = Xtr[:5000], Ytr[:5000] # subsample for efficiency (you can go higher)\n",
    "#rescaled subsample\n",
    "XtS, params = ml.rescale(Xt) # Normalize the features\n",
    "XvS, _ = ml.rescale(Xva, params) # Normalize the features\n",
    "\n",
    "reg = 10\n",
    "\n",
    "#10 zeros\n",
    "auc_tr = np.zeros(reg)\n",
    "auc_va = np.zeros(reg)\n",
    "\n",
    "#0 to 9\n",
    "for i in range(0,reg):\n",
    "    learner = ml.linearC.linearClassify()\n",
    "    learner.train(XtS, Yt, reg=i, initStep=0.5, stopTol=1e-6, stopIter=100)\n",
    "    auc_tr[i] = learner.auc(XtS, Yt)\n",
    "    auc_va[i] = learner.auc(XvS, Yva)\n",
    "\n",
    "#prints only one of the plots if i don't use 2 reglists for some reason\n",
    "reglist = range(0,reg)\n",
    "reglist2 = range(0,reg)\n",
    "    \n",
    "plt.plot(reglist, auc_tr, marker='^', color = \"red\", label = \"Training AUC\")\n",
    "plt.plot(reglist2, auc_va, marker='o', color = \"green\", label = \"Validation AUC\")\n",
    "\n",
    "plt.xticks(reglist)\n",
    "plt.xlabel(\"Reg\")\n",
    "plt.ylabel(\"AUC\")\n",
    "plt.legend()\n",
    "plt.show()\n",
    "\n",
    "print('Train AUC:',auc_tr)\n",
    "print('Validation AUC:', auc_va)"
   ]
  },
  {
   "cell_type": "markdown",
   "metadata": {},
   "source": [
    "PART 2  \n",
    "There are 119 features which we get since we had 14 features originally, the same amount of degree 2 features, and the fact that each of those original features are matched to one of the other 13 degree 2 features (but not the other way around).  \n",
    "  \n",
    "This gives us 119 = 14 + 14 + 14x13/2 (divide by 2 since we don't want the other way around)."
   ]
  },
  {
   "cell_type": "code",
   "execution_count": 5,
   "metadata": {},
   "outputs": [
    {
     "name": "stdout",
     "output_type": "stream",
     "text": [
      "(5000, 119)\n",
      "(40000, 119)\n"
     ]
    }
   ],
   "source": [
    "import sys\n",
    "import numpy as np\n",
    "import mltools as ml\n",
    "import matplotlib.pyplot as plt\n",
    "\n",
    "#X IS FEATURE; Y IS CLASS\n",
    "# Data Loading\n",
    "X = np.genfromtxt('data/X_train.txt', delimiter=None)\n",
    "Y = np.genfromtxt('data/Y_train.txt', delimiter=None)\n",
    "X,Y = ml.shuffleData(X,Y)\n",
    "\n",
    "Xtr, Xva, Ytr, Yva = ml.splitData(X, Y)\n",
    "#subsamples\n",
    "Xt, Yt = Xtr[:5000], Ytr[:5000] # subsample for efficiency (you can go higher)\n",
    "#rescaled subsample\n",
    "XtS, params = ml.rescale(Xt) # Normalize the features\n",
    "XvS, _ = ml.rescale(Xva, params) # Normalize the features\n",
    "\n",
    "degree = 2\n",
    "# Create polynomial features up to \"degree\"; don’t create constant feature\n",
    "# (the linear regression learner will add the constant feature automatically)\n",
    "XtP = ml.transforms.fpoly(Xt, degree, bias=False)\n",
    " \n",
    "# Rescale the data matrix so that the features have similar ranges / variance\n",
    "XtP,params = ml.transforms.rescale(XtP)\n",
    "# \"params\" returns the transformation parameters (shift & scale)\n",
    "\n",
    "# Then we can train the model on the scaled feature matrix:\n",
    "#lr = ml.linear.linearRegress( XtP, Ytr ) # create and train model\n",
    "#^not making predictions\n",
    "    \n",
    "# Now, apply the same polynomial expansion & scaling transformation to Xtest(used xs since Xte didn't work and since xs was used in number 2 and it worked there):\n",
    "XvaP = ml.transforms.fpoly(Xva, degree, bias = False)\n",
    "XvaP,_ = ml.transforms.rescale( XvaP, params )    \n",
    "    \n",
    "print(XtP.shape)\n",
    "print(XvaP.shape)"
   ]
  },
  {
   "cell_type": "markdown",
   "metadata": {},
   "source": [
    "PART 3  \n",
    "I'm not sure if the plot is supposed to look about the same each time, but it seems that it changes so I stuck with this one in the end."
   ]
  },
  {
   "cell_type": "code",
   "execution_count": 16,
   "metadata": {},
   "outputs": [
    {
     "data": {
      "image/png": "[encoded data removed]",
      "text/plain": [
       "<Figure size 432x288 with 1 Axes>"
      ]
     },
     "metadata": {
      "needs_background": "light"
     },
     "output_type": "display_data"
    },
    {
     "name": "stdout",
     "output_type": "stream",
     "text": [
      "Train AUC: [0.50406525 0.55553662 0.52284673 0.49590448 0.50406525 0.50406525\n",
      " 0.50406525 0.50406525 0.50406525 0.50406525]\n",
      "Validation AUC: [0.50093393 0.56075051 0.52541748 0.49560817 0.50093393 0.50093393\n",
      " 0.50093393 0.50093393 0.50093393 0.50093393]\n"
     ]
    }
   ],
   "source": [
    "import sys\n",
    "import numpy as np\n",
    "import mltools as ml\n",
    "import matplotlib.pyplot as plt\n",
    "\n",
    "#X IS FEATURE; Y IS CLASS\n",
    "# Data Loading\n",
    "X = np.genfromtxt('data/X_train.txt', delimiter=None)\n",
    "Y = np.genfromtxt('data/Y_train.txt', delimiter=None)\n",
    "X,Y = ml.shuffleData(X,Y)\n",
    "\n",
    "Xtr, Xva, Ytr, Yva = ml.splitData(X, Y)\n",
    "#subsamples\n",
    "Xt, Yt = Xtr[:5000], Ytr[:5000] # subsample for efficiency (you can go higher)\n",
    "#rescaled subsample\n",
    "XtS, params = ml.rescale(Xt) # Normalize the features\n",
    "XvS, _ = ml.rescale(Xva, params) # Normalize the features\n",
    "\n",
    "#PART 2 CODE\n",
    "degree = 2\n",
    "# Create polynomial features up to \"degree\"; don’t create constant feature\n",
    "# (the linear regression learner will add the constant feature automatically)\n",
    "XtP = ml.transforms.fpoly(Xt, degree, bias=False)\n",
    " \n",
    "# Rescale the data matrix so that the features have similar ranges / variance\n",
    "XtP,params = ml.transforms.rescale(XtP)\n",
    "# \"params\" returns the transformation parameters (shift & scale)\n",
    "\n",
    "# Then we can train the model on the scaled feature matrix:\n",
    "#lr = ml.linear.linearRegress( XtP, Ytr ) # create and train model\n",
    "#^not making predictions\n",
    "    \n",
    "# Now, apply the same polynomial expansion & scaling transformation to Xtest(used xs since Xte didn't work and since xs was used in number 2 and it worked there):\n",
    "XvaP = ml.transforms.fpoly(Xva, degree, bias = False)\n",
    "XvaP,_ = ml.transforms.rescale( XvaP, params )    \n",
    "\n",
    "#PART 1 CODE\n",
    "reg = 10\n",
    "\n",
    "#10 zeros\n",
    "auc_tr = np.zeros(reg)\n",
    "auc_va = np.zeros(reg)\n",
    "\n",
    "#0 to 9\n",
    "for i in range(0,reg):\n",
    "    learner = ml.linearC.linearClassify()\n",
    "    learner.train(XtP, Yt, reg=i, initStep=0.5, stopTol=1e-6, stopIter=100)\n",
    "    #auc_tr[i] = learner.auc(XtS, Yt)\n",
    "    #auc_va[i] = learner.auc(XvS, Yva)\n",
    "    auc_tr[i] = learner.auc(XtP, Yt)\n",
    "    auc_va[i] = learner.auc(XvaP, Yva)\n",
    "\n",
    "#prints only one of the plots if i don't use 2 reglists for some reason\n",
    "reglist = range(0,reg)\n",
    "reglist2 = range(0,reg)\n",
    "    \n",
    "plt.plot(reglist, auc_tr, marker='^', color = \"red\", label = \"Training AUC\")\n",
    "plt.plot(reglist2, auc_va, marker='o', color = \"green\", label = \"Validation AUC\")\n",
    "\n",
    "plt.xticks(reglist)\n",
    "plt.xlabel(\"Reg\")\n",
    "plt.ylabel(\"AUC\")\n",
    "plt.legend()\n",
    "plt.show()\n",
    "\n",
    "print('Train AUC:',auc_tr)\n",
    "print('Validation AUC:', auc_va)"
   ]
  },
  {
   "cell_type": "markdown",
   "metadata": {},
   "source": [
    "# PROBLEM 3  \n",
    "PART 1"
   ]
  },
  {
   "cell_type": "code",
   "execution_count": 4,
   "metadata": {},
   "outputs": [
    {
     "data": {
      "image/png": "[encoded data removed]",
      "text/plain": [
       "<Figure size 432x288 with 1 Axes>"
      ]
     },
     "metadata": {
      "needs_background": "light"
     },
     "output_type": "display_data"
    },
    {
     "name": "stdout",
     "output_type": "stream",
     "text": [
      "Train AUC: [0.99715504 0.91885471 0.87119507 0.84412358 0.82481381 0.80680485\n",
      " 0.7910912  0.77896703 0.77389083 0.76640789]\n",
      "Validation AUC: [0.57802644 0.59809668 0.60883983 0.61635251 0.62169815 0.62706811\n",
      " 0.63223489 0.63474213 0.63634066 0.63770906]\n"
     ]
    }
   ],
   "source": [
    "#PPROBLEM 2 PART 1 CODE\n",
    "kay = 10\n",
    "\n",
    "#[0] * (kay-1)\n",
    "#10 zeros\n",
    "auc_tr = np.zeros(kay)\n",
    "auc_va = np.zeros(kay)\n",
    "\n",
    "#0 to 9\n",
    "for i in range(0,kay):\n",
    "    learner = ml.knn.knnClassify()\n",
    "    learner.train(XtS, Yt, K=i+1, alpha = 0.0)\n",
    "    auc_tr[i] = learner.auc(XtS, Yt)\n",
    "    auc_va[i] = learner.auc(XvS, Yva)\n",
    "\n",
    "#prints only one of the plots if i don't use 2 reglists for some reason\n",
    "kaylist = range(1,kay+1) #range(0,kay)\n",
    "kaylist2 = range(1,kay+1)\n",
    "    \n",
    "plt.plot(kaylist, auc_tr, marker='^', color = \"red\", label = \"Training AUC\")\n",
    "plt.plot(kaylist2, auc_va, marker='o', color = \"green\", label = \"Validation AUC\")\n",
    "\n",
    "plt.xticks(kaylist)\n",
    "plt.xlabel(\"K values (kay)\")\n",
    "plt.ylabel(\"AUC\")\n",
    "plt.legend()\n",
    "plt.show()\n",
    "\n",
    "print('Train AUC:',auc_tr)\n",
    "print('Validation AUC:', auc_va)"
   ]
  },
  {
   "cell_type": "markdown",
   "metadata": {},
   "source": [
    "PART 2"
   ]
  },
  {
   "cell_type": "code",
   "execution_count": 5,
   "metadata": {},
   "outputs": [
    {
     "data": {
      "image/png": "[encoded data removed]",
      "text/plain": [
       "<Figure size 432x288 with 1 Axes>"
      ]
     },
     "metadata": {
      "needs_background": "light"
     },
     "output_type": "display_data"
    },
    {
     "name": "stdout",
     "output_type": "stream",
     "text": [
      "Train AUC: [0.99524124 0.91370019 0.86080731 0.82403833 0.80020424 0.77878877\n",
      " 0.75830253 0.7440436  0.73502297 0.72814476]\n",
      "Validation AUC: [0.56052928 0.57340293 0.58208392 0.58684255 0.58715756 0.58822478\n",
      " 0.58897793 0.58898231 0.58727495 0.58639297]\n"
     ]
    }
   ],
   "source": [
    "#PPROBLEM 2 PART 1 CODE\n",
    "kay = 10\n",
    "\n",
    "#10 zeros\n",
    "auc_tr = np.zeros(kay)\n",
    "auc_va = np.zeros(kay)\n",
    "\n",
    "#maybe putting this here makes it faster\n",
    "learner = ml.knn.knnClassify()\n",
    "\n",
    "#0 to 9; can't have 0 for KNN so add 1 to K\n",
    "for i in range(0,kay):\n",
    "    \n",
    "    learner.train(Xt, Yt, K=i+1, alpha = 0.0)\n",
    "    auc_tr[i] = learner.auc(Xt, Yt)\n",
    "    auc_va[i] = learner.auc(Xva, Yva)\n",
    "\n",
    "#prints only one of the plots if i don't use 2 reglists for some reason\n",
    "kaylist = range(1,kay+1)\n",
    "kaylist2 = range(1,kay+1)\n",
    "    \n",
    "plt.plot(kaylist, auc_tr, marker='^', color = \"red\", label = \"Training AUC\")\n",
    "plt.plot(kaylist2, auc_va, marker='o', color = \"green\", label = \"Validation AUC\")\n",
    "\n",
    "plt.xticks(kaylist)\n",
    "plt.xlabel(\"K values (kay)\")\n",
    "plt.ylabel(\"AUC\")\n",
    "plt.legend()\n",
    "plt.show()\n",
    "\n",
    "print('Train AUC:',auc_tr)\n",
    "print('Validation AUC:', auc_va)"
   ]
  },
  {
   "cell_type": "markdown",
   "metadata": {},
   "source": [
    "PART 3"
   ]
  },
  {
   "cell_type": "code",
   "execution_count": 6,
   "metadata": {},
   "outputs": [
    {
     "data": {
      "image/png": "[encoded data removed]",
      "text/plain": [
       "<Figure size 576x360 with 2 Axes>"
      ]
     },
     "metadata": {
      "needs_background": "light"
     },
     "output_type": "display_data"
    }
   ],
   "source": [
    "K = range(1,20,4) # Or something else\n",
    "A = range(0,5,1) # Or something else\n",
    "tr_auc = np.zeros((len(K),len(A)))\n",
    "va_auc = np.zeros((len(K),len(A)))\n",
    "\n",
    "#putting this learner out of the for loop makes things faster?\n",
    "learner = ml.knn.knnClassify()\n",
    "\n",
    "for i,k in enumerate(K):\n",
    "    for j,a in enumerate(A):\n",
    "        learner.train(Xt, Yt, K=k, alpha = a)\n",
    "        tr_auc[i][j] = learner.auc(Xt, Yt) # train learner using k and a\n",
    "        va_auc[i][j] = learner.auc(Xva, Yva)\n",
    "        \n",
    "# Now plot it\n",
    "f, ax = plt.subplots(1, 1, figsize=(8, 5))\n",
    "#need to replace mat with something else\n",
    "caxtr = ax.matshow(tr_auc, interpolation='nearest')\n",
    "f.colorbar(caxtr)\n",
    "ax.set_xticklabels(['']+[*A])\n",
    "ax.set_yticklabels(['']+[*K])\n",
    "ax.set_xlabel(\"A\")\n",
    "ax.set_ylabel(\"K\")\n",
    "ax.set_title(\"Unscaled Training AUC\")\n",
    "plt.show()"
   ]
  },
  {
   "cell_type": "code",
   "execution_count": 7,
   "metadata": {},
   "outputs": [
    {
     "data": {
      "image/png": "[encoded data removed]",
      "text/plain": [
       "<Figure size 576x360 with 2 Axes>"
      ]
     },
     "metadata": {
      "needs_background": "light"
     },
     "output_type": "display_data"
    }
   ],
   "source": [
    "# Now plot it\n",
    "f, ax = plt.subplots(1, 1, figsize=(8, 5))\n",
    "#need to replace mat with something else\n",
    "caxva = ax.matshow(va_auc, interpolation='nearest')\n",
    "f.colorbar(caxva)\n",
    "ax.set_xticklabels(['']+[*A])\n",
    "ax.set_yticklabels(['']+[*K])\n",
    "ax.set_xlabel(\"A\")\n",
    "ax.set_ylabel(\"K\")\n",
    "ax.set_title(\"Unscaled Validation AUC\")\n",
    "plt.show()"
   ]
  },
  {
   "cell_type": "markdown",
   "metadata": {},
   "source": [
    "I would recommend a K of 17 and an A of 0 based on these results."
   ]
  },
  {
   "cell_type": "markdown",
   "metadata": {},
   "source": [
    "# PROBLEM 4  \n",
    "PART 1"
   ]
  },
  {
   "cell_type": "code",
   "execution_count": 9,
   "metadata": {},
   "outputs": [
    {
     "data": {
      "image/png": "[encoded data removed]",
      "text/plain": [
       "<Figure size 432x288 with 1 Axes>"
      ]
     },
     "metadata": {
      "needs_background": "light"
     },
     "output_type": "display_data"
    }
   ],
   "source": [
    "deptharr = np.array(range(1,20,2))\n",
    "tr_auc = np.zeros(deptharr.shape[0])\n",
    "va_auc = np.zeros(deptharr.shape[0])\n",
    "\n",
    "learner = ml.dtree.treeClassify()\n",
    "for i, d in enumerate(deptharr): \n",
    "    learner.train(XtS, Yt, maxDepth = d, minParent = 2, minLeaf= 1)\n",
    "    tr_auc[i] = learner.auc(XtS, Yt)\n",
    "    va_auc[i] = learner.auc(XvS, Yva)\n",
    "    \n",
    "plt.plot(deptharr, tr_auc, marker='^', color = \"red\", label = \"Training AUC\")\n",
    "plt.plot(deptharr, va_auc, marker='o', color = \"green\", label = \"Validation AUC\")\n",
    "plt.xticks(deptharr)\n",
    "plt.xlabel(\"maxDepth\")\n",
    "plt.ylabel(\"AUC\")\n",
    "plt.title(\"Training & Validation AUC vs. maxDepth\")\n",
    "plt.legend()\n",
    "plt.show()\n",
    "\n",
    "#print 'Train AUC:', tr_auc\n",
    "#print 'Validation AUC:', va_auc"
   ]
  },
  {
   "cell_type": "markdown",
   "metadata": {},
   "source": [
    "PART 2"
   ]
  },
  {
   "cell_type": "code",
   "execution_count": 10,
   "metadata": {},
   "outputs": [
    {
     "data": {
      "image/png": "[encoded data removed]",
      "text/plain": [
       "<Figure size 432x288 with 1 Axes>"
      ]
     },
     "metadata": {
      "needs_background": "light"
     },
     "output_type": "display_data"
    }
   ],
   "source": [
    "#deptharr = np.array(range(1,20,2))\n",
    "#minParent2\n",
    "numnodes2 = np.zeros(deptharr.shape[0])\n",
    "#minParent4\n",
    "numnodes4 = np.zeros(deptharr.shape[0])\n",
    "\n",
    "learner = ml.dtree.treeClassify()\n",
    "for i, d in enumerate(deptharr): \n",
    "    learner.train(Xt, Yt, maxDepth = d, minParent = 2, minLeaf= 1)\n",
    "    numnodes2[i] = learner.sz\n",
    "\n",
    "#chose to increase minParent from 2 to 4\n",
    "for i, d in enumerate(deptharr): \n",
    "    learner.train(Xt, Yt, maxDepth = d, minParent = 4, minLeaf= 1)\n",
    "    numnodes4[i] = learner.sz\n",
    "    \n",
    "plt.plot(deptharr, numnodes2, marker='^', color = \"red\", label = \"minParent = 2\")\n",
    "plt.plot(deptharr, numnodes4, marker='o', color = \"green\", label = \"minParent= 4\")\n",
    "plt.xticks(deptharr)\n",
    "plt.xlabel(\"maxDepth\")\n",
    "plt.ylabel(\"numnodes\")\n",
    "plt.title(\"Number of Nodes vs. maxDepth\")\n",
    "plt.legend()\n",
    "plt.show()"
   ]
  },
  {
   "cell_type": "markdown",
   "metadata": {},
   "source": [
    "PART 3"
   ]
  },
  {
   "cell_type": "code",
   "execution_count": 12,
   "metadata": {},
   "outputs": [
    {
     "data": {
      "image/png": "[encoded data removed]",
      "text/plain": [
       "<Figure size 576x360 with 2 Axes>"
      ]
     },
     "metadata": {
      "needs_background": "light"
     },
     "output_type": "display_data"
    }
   ],
   "source": [
    "K = range(1,10,2) # Or something else\n",
    "A = range(1,6,1) # Or something else\n",
    "\n",
    "tr_auc = np.zeros((len(K),len(A)))\n",
    "va_auc = np.zeros((len(K),len(A)))\n",
    "\n",
    "for i,k in enumerate(K):\n",
    "    for j,a in enumerate(A):\n",
    "        learner = ml.dtree.treeClassify()\n",
    "        learner.train(Xt, Yt, maxDepth = 15, minParent = k, minLeaf = a)\n",
    "        tr_auc[i][j] = learner.auc(Xt, Yt) # train learner using k and a\n",
    "        va_auc[i][j] = learner.auc(Xva, Yva)\n",
    "    \n",
    "# Now plot it\n",
    "f, ax = plt.subplots(1, 1, figsize=(8, 5))\n",
    "#need to replace mat with something else\n",
    "caxtr4 = ax.matshow(tr_auc, interpolation='nearest')\n",
    "f.colorbar(caxtr4)\n",
    "ax.set_xticklabels(['']+[*A])\n",
    "ax.set_yticklabels(['']+[*K])\n",
    "ax.set_xlabel(\"minLeaf\")\n",
    "ax.set_ylabel(\"minParent\")\n",
    "ax.set_title(\"Training AUC\")\n",
    "plt.show()"
   ]
  },
  {
   "cell_type": "code",
   "execution_count": 13,
   "metadata": {},
   "outputs": [
    {
     "data": {
      "image/png": "[encoded data removed]",
      "text/plain": [
       "<Figure size 576x360 with 2 Axes>"
      ]
     },
     "metadata": {
      "needs_background": "light"
     },
     "output_type": "display_data"
    }
   ],
   "source": [
    "# Now plot it\n",
    "f, ax = plt.subplots(1, 1, figsize=(8, 5))\n",
    "#need to replace mat with something else\n",
    "caxva4 = ax.matshow(va_auc, interpolation='nearest')\n",
    "f.colorbar(caxva4)\n",
    "ax.set_xticklabels(['']+[*A])\n",
    "ax.set_yticklabels(['']+[*K])\n",
    "ax.set_xlabel(\"minLeaf\")\n",
    "ax.set_ylabel(\"minParent\")\n",
    "ax.set_title(\"Validation AUC\")\n",
    "plt.show()"
   ]
  },
  {
   "cell_type": "markdown",
   "metadata": {},
   "source": [
    "I recommend:  \n",
    "minParent = 3  \n",
    "minLeaf = 1"
   ]
  },
  {
   "cell_type": "markdown",
   "metadata": {},
   "source": [
    "# PROBLEM 5  \n",
    "PART 1"
   ]
  },
  {
   "cell_type": "code",
   "execution_count": 15,
   "metadata": {},
   "outputs": [
    {
     "name": "stdout",
     "output_type": "stream",
     "text": [
      "it 1 : Jsur = 0.4193033710343697, J01 = 0.3122\n",
      "it 2 : Jsur = 0.41760779134942577, J01 = 0.3138\n",
      "it 4 : Jsur = 0.4181134502248675, J01 = 0.3124\n",
      "it 8 : Jsur = 0.4190072979256925, J01 = 0.3116\n",
      "it 16 : Jsur = 0.41974114255237893, J01 = 0.314\n",
      "it 32 : Jsur = 0.4203156329562171, J01 = 0.317\n",
      "it 64 : Jsur = 0.4209064395662542, J01 = 0.318\n",
      "it 128 : Jsur = 0.42155749025217226, J01 = 0.3206\n",
      "it 256 : Jsur = 0.42216358364198714, J01 = 0.3214\n",
      "it 1 : Jsur = 0.4199150907552506, J01 = 0.3096\n",
      "it 2 : Jsur = 0.4175663851098601, J01 = 0.3138\n",
      "it 4 : Jsur = 0.4155052126224272, J01 = 0.31\n",
      "it 8 : Jsur = 0.4154663306970902, J01 = 0.3088\n",
      "it 16 : Jsur = 0.4163639912926987, J01 = 0.3074\n",
      "it 32 : Jsur = 0.41736050902954014, J01 = 0.3086\n",
      "it 64 : Jsur = 0.41811386582620336, J01 = 0.3092\n",
      "it 128 : Jsur = 0.41871327760111016, J01 = 0.3116\n",
      "it 256 : Jsur = 0.4193289814749749, J01 = 0.313\n",
      "it 1 : Jsur = 0.418485139710974, J01 = 0.315\n",
      "it 2 : Jsur = 0.4153022321854929, J01 = 0.3078\n",
      "it 4 : Jsur = 0.4141060838629941, J01 = 0.3086\n",
      "it 8 : Jsur = 0.4127579922039022, J01 = 0.3106\n",
      "it 16 : Jsur = 0.41051849967854626, J01 = 0.306\n",
      "it 32 : Jsur = 0.40817057406135837, J01 = 0.3042\n",
      "it 64 : Jsur = 0.4066597109819601, J01 = 0.303\n",
      "it 128 : Jsur = 0.40590315240839586, J01 = 0.3026\n",
      "it 256 : Jsur = 0.4055628535353167, J01 = 0.3026\n",
      "it 1 : Jsur = 0.41887751707625764, J01 = 0.308\n",
      "it 2 : Jsur = 0.41478602784826235, J01 = 0.3092\n",
      "it 4 : Jsur = 0.4129861159405534, J01 = 0.3088\n",
      "it 8 : Jsur = 0.41049615573355497, J01 = 0.3058\n",
      "it 16 : Jsur = 0.4089927223605133, J01 = 0.3048\n",
      "it 32 : Jsur = 0.4070914427512636, J01 = 0.3042\n",
      "it 64 : Jsur = 0.40570770109738724, J01 = 0.3008\n",
      "it 128 : Jsur = 0.40439886419375654, J01 = 0.2992\n",
      "it 256 : Jsur = 0.4031750097364241, J01 = 0.2988\n",
      "it 1 : Jsur = 0.4204076118447501, J01 = 0.3154\n",
      "it 2 : Jsur = 0.4151362872339319, J01 = 0.31\n",
      "it 4 : Jsur = 0.4125121269856042, J01 = 0.308\n",
      "it 8 : Jsur = 0.4113127072993404, J01 = 0.3066\n",
      "it 16 : Jsur = 0.41024642177670273, J01 = 0.305\n",
      "it 32 : Jsur = 0.40868311679329355, J01 = 0.3034\n",
      "it 64 : Jsur = 0.40698833130305573, J01 = 0.3036\n",
      "it 128 : Jsur = 0.40609972394680977, J01 = 0.3028\n",
      "it 256 : Jsur = 0.40564668999939985, J01 = 0.3018\n",
      "it 1 : Jsur = 0.41877797347651696, J01 = 0.3084\n",
      "it 2 : Jsur = 0.4141317637271741, J01 = 0.3088\n",
      "it 4 : Jsur = 0.4124717559709099, J01 = 0.3096\n",
      "it 8 : Jsur = 0.410593115535005, J01 = 0.3048\n",
      "it 16 : Jsur = 0.4082457946955854, J01 = 0.3046\n",
      "it 32 : Jsur = 0.40649228110092944, J01 = 0.3042\n",
      "it 64 : Jsur = 0.4047405299547725, J01 = 0.3004\n",
      "it 128 : Jsur = 0.40324561502693257, J01 = 0.2976\n",
      "it 256 : Jsur = 0.40223139648693185, J01 = 0.2972\n",
      "it 1 : Jsur = 0.41965446626474207, J01 = 0.3068\n",
      "it 2 : Jsur = 0.4138006738040679, J01 = 0.308\n",
      "it 4 : Jsur = 0.41205654958546395, J01 = 0.308\n",
      "it 8 : Jsur = 0.41004007225986716, J01 = 0.3058\n",
      "it 16 : Jsur = 0.40786581002826405, J01 = 0.3038\n",
      "it 32 : Jsur = 0.40616041199193176, J01 = 0.3024\n",
      "it 64 : Jsur = 0.4038144667245359, J01 = 0.2984\n",
      "it 128 : Jsur = 0.4012499444848456, J01 = 0.2952\n",
      "it 256 : Jsur = 0.399368747708382, J01 = 0.2934\n",
      "it 1 : Jsur = 0.41844297407180076, J01 = 0.3104\n",
      "it 2 : Jsur = 0.4133442126437885, J01 = 0.3088\n",
      "it 4 : Jsur = 0.41184878623869553, J01 = 0.307\n",
      "it 8 : Jsur = 0.4104127917042955, J01 = 0.3044\n",
      "it 16 : Jsur = 0.40873845447229057, J01 = 0.3026\n",
      "it 32 : Jsur = 0.40613474047837017, J01 = 0.3002\n",
      "it 64 : Jsur = 0.40344917388189216, J01 = 0.2978\n",
      "it 128 : Jsur = 0.4015124164668783, J01 = 0.2986\n",
      "it 256 : Jsur = 0.4000818919623452, J01 = 0.2956\n",
      "it 1 : Jsur = 0.41856142314701156, J01 = 0.3132\n",
      "it 2 : Jsur = 0.41447218856151113, J01 = 0.3076\n",
      "it 4 : Jsur = 0.41282472613423904, J01 = 0.3104\n",
      "it 8 : Jsur = 0.41148084126230317, J01 = 0.3054\n",
      "it 16 : Jsur = 0.41013903008002917, J01 = 0.3056\n",
      "it 32 : Jsur = 0.4086774985983411, J01 = 0.3042\n",
      "it 64 : Jsur = 0.4072664797506973, J01 = 0.3034\n",
      "it 128 : Jsur = 0.4053735831657722, J01 = 0.2998\n",
      "it 256 : Jsur = 0.4044712056223865, J01 = 0.2988\n",
      "it 1 : Jsur = 0.4186361110722796, J01 = 0.3108\n",
      "it 2 : Jsur = 0.413547097173275, J01 = 0.307\n",
      "it 4 : Jsur = 0.4112439736140428, J01 = 0.3048\n",
      "it 8 : Jsur = 0.40926379482635034, J01 = 0.3032\n",
      "it 16 : Jsur = 0.40751798650924576, J01 = 0.304\n",
      "it 32 : Jsur = 0.40580937543183826, J01 = 0.3024\n",
      "it 64 : Jsur = 0.4038638728143072, J01 = 0.3014\n",
      "it 128 : Jsur = 0.4022758695251353, J01 = 0.2994\n",
      "it 256 : Jsur = 0.400666614959261, J01 = 0.2948\n",
      "it 1 : Jsur = 0.4185238739054095, J01 = 0.3072\n",
      "it 2 : Jsur = 0.41335765517013817, J01 = 0.3064\n",
      "it 4 : Jsur = 0.4120041236796408, J01 = 0.3066\n",
      "it 8 : Jsur = 0.4107142184364694, J01 = 0.3042\n",
      "it 16 : Jsur = 0.4094742412393534, J01 = 0.3024\n",
      "it 32 : Jsur = 0.4077545938203717, J01 = 0.3032\n",
      "it 64 : Jsur = 0.404919468684954, J01 = 0.301\n",
      "it 128 : Jsur = 0.40190799662720755, J01 = 0.2968\n",
      "it 256 : Jsur = 0.3995878772952537, J01 = 0.2964\n",
      "it 1 : Jsur = 0.41883987268778056, J01 = 0.309\n",
      "it 2 : Jsur = 0.41394038648399645, J01 = 0.308\n",
      "it 4 : Jsur = 0.4117542072028467, J01 = 0.3058\n",
      "it 8 : Jsur = 0.41005020063359887, J01 = 0.306\n",
      "it 16 : Jsur = 0.40799013505150683, J01 = 0.303\n",
      "it 32 : Jsur = 0.40571997813539185, J01 = 0.3016\n",
      "it 64 : Jsur = 0.40421045609409156, J01 = 0.2998\n",
      "it 128 : Jsur = 0.4027768065530339, J01 = 0.298\n",
      "it 256 : Jsur = 0.40071073108796373, J01 = 0.2952\n",
      "it 1 : Jsur = 0.418413632127623, J01 = 0.3066\n",
      "it 2 : Jsur = 0.4135756236442586, J01 = 0.3064\n",
      "it 4 : Jsur = 0.41200959406145776, J01 = 0.307\n",
      "it 8 : Jsur = 0.41050834033845757, J01 = 0.304\n",
      "it 16 : Jsur = 0.40879255598979225, J01 = 0.3016\n",
      "it 32 : Jsur = 0.406273306678606, J01 = 0.3024\n",
      "it 64 : Jsur = 0.4031680981383554, J01 = 0.299\n",
      "it 128 : Jsur = 0.40065896183201277, J01 = 0.296\n",
      "it 256 : Jsur = 0.3990888797844101, J01 = 0.2936\n",
      "it 1 : Jsur = 0.42027683324667586, J01 = 0.311\n",
      "it 2 : Jsur = 0.4132814372894859, J01 = 0.309\n",
      "it 4 : Jsur = 0.41189896551643834, J01 = 0.3054\n",
      "it 8 : Jsur = 0.4106552864992238, J01 = 0.3042\n",
      "it 16 : Jsur = 0.40844218100223834, J01 = 0.3018\n",
      "it 32 : Jsur = 0.40575184412650894, J01 = 0.3012\n",
      "it 64 : Jsur = 0.40366716810102254, J01 = 0.3\n",
      "it 128 : Jsur = 0.4020815429889106, J01 = 0.2978\n",
      "it 256 : Jsur = 0.40031830077220576, J01 = 0.2954\n",
      "it 1 : Jsur = 0.4191420750890735, J01 = 0.3084\n",
      "it 2 : Jsur = 0.4133623241592146, J01 = 0.3086\n",
      "it 4 : Jsur = 0.41195053986150104, J01 = 0.306\n",
      "it 8 : Jsur = 0.41069163139243037, J01 = 0.3054\n",
      "it 16 : Jsur = 0.4089823533326342, J01 = 0.303\n",
      "it 32 : Jsur = 0.406723922957625, J01 = 0.302\n",
      "it 64 : Jsur = 0.40423528109983237, J01 = 0.3008\n",
      "it 128 : Jsur = 0.4021517231761185, J01 = 0.2974\n",
      "it 256 : Jsur = 0.4005501008356303, J01 = 0.2974\n",
      "it 1 : Jsur = 0.41927168585640356, J01 = 0.3102\n",
      "it 2 : Jsur = 0.4131840513864214, J01 = 0.3058\n",
      "it 4 : Jsur = 0.4119396978266377, J01 = 0.3052\n",
      "it 8 : Jsur = 0.4108012464956369, J01 = 0.3074\n",
      "it 16 : Jsur = 0.40879601551719397, J01 = 0.3042\n",
      "it 32 : Jsur = 0.40668072074044187, J01 = 0.3008\n",
      "it 64 : Jsur = 0.4048686293359276, J01 = 0.2992\n",
      "it 128 : Jsur = 0.4029325199690508, J01 = 0.2976\n",
      "it 256 : Jsur = 0.4011917802234359, J01 = 0.295\n",
      "tr_auc: [[0.66940731 0.67010917 0.68533545 0.69112421]\n",
      " [0.68564712 0.69249834 0.69853223 0.6984832 ]\n",
      " [0.68903903 0.69648171 0.70096672 0.697312  ]\n",
      " [0.70134668 0.70011647 0.69930299 0.69729397]]\n",
      "va_auc: [[0.64690607 0.64687174 0.65618826 0.65926366]\n",
      " [0.65602315 0.66225024 0.66345064 0.66555008]\n",
      " [0.66214006 0.66420838 0.66725625 0.66597734]\n",
      " [0.66567143 0.6667341  0.66557346 0.66693543]]\n"
     ]
    },
    {
     "data": {
      "image/png": "[encoded data removed]",
      "text/plain": [
       "<Figure size 576x360 with 2 Axes>"
      ]
     },
     "metadata": {
      "needs_background": "light"
     },
     "output_type": "display_data"
    }
   ],
   "source": [
    "layers = range(1,5,1) \n",
    "nodes = range(2,6,1) \n",
    "\n",
    "tr_auc = np.zeros((len(layers),len(nodes)))\n",
    "va_auc = np.zeros((len(layers),len(nodes)))\n",
    "\n",
    "\n",
    "for i, layer in enumerate(layers):\n",
    "    for j, node in enumerate(nodes):\n",
    "        nn = ml.nnet.nnetClassify()\n",
    "        nn.init_weights([XtS.shape[1],layer*node,2], 'random', XtS, Yt)\n",
    "        nn.train(XtS, Yt, stopTol=1e-8, stepsize=.25, stopIter=300)\n",
    "        tr_auc[i][j] = nn.auc(XtS, Yt) \n",
    "        va_auc[i][j] = nn.auc(XvS, Yva)\n",
    "\n",
    "print(\"tr_auc:\", tr_auc)\n",
    "print(\"va_auc:\", va_auc)\n",
    "\n",
    "f, ax = plt.subplots(1, 1, figsize=(8, 5))\n",
    "caxtr5 = ax.matshow(tr_auc, interpolation='nearest')\n",
    "f.colorbar(caxtr5)\n",
    "ax.set_xticklabels(['']+[*nodes])\n",
    "ax.set_yticklabels(['']+[*layers])\n",
    "ax.set_xlabel(\"Nodes\")\n",
    "ax.set_ylabel(\"Layers\")\n",
    "ax.set_title(\"Training AUC\")\n",
    "plt.show()"
   ]
  },
  {
   "cell_type": "code",
   "execution_count": 16,
   "metadata": {},
   "outputs": [
    {
     "data": {
      "image/png": "[encoded data removed]",
      "text/plain": [
       "<Figure size 576x360 with 2 Axes>"
      ]
     },
     "metadata": {
      "needs_background": "light"
     },
     "output_type": "display_data"
    }
   ],
   "source": [
    "f, ax = plt.subplots(1, 1, figsize=(8, 5))\n",
    "caxva5 = ax.matshow(va_auc, interpolation='nearest')\n",
    "f.colorbar(caxva5)\n",
    "ax.set_xticklabels(['']+[*nodes])\n",
    "ax.set_yticklabels(['']+[*layers])\n",
    "ax.set_xlabel(\"Nodes\")\n",
    "ax.set_ylabel(\"Layers\")\n",
    "ax.set_title(\"Validation AUC\")\n",
    "plt.show()"
   ]
  },
  {
   "cell_type": "markdown",
   "metadata": {},
   "source": [
    "PART 2"
   ]
  },
  {
   "cell_type": "code",
   "execution_count": 17,
   "metadata": {},
   "outputs": [
    {
     "name": "stdout",
     "output_type": "stream",
     "text": [
      "it 1 : Jsur = 0.4519821609311485, J01 = 0.3532\n",
      "it 2 : Jsur = 0.45212734121517767, J01 = 0.3532\n",
      "it 4 : Jsur = 0.452386935350052, J01 = 0.3532\n",
      "it 8 : Jsur = 0.45269280459474104, J01 = 0.3532\n",
      "it 16 : Jsur = 0.4530717532751667, J01 = 0.3532\n",
      "it 32 : Jsur = 0.4533615431600854, J01 = 0.3532\n",
      "it 64 : Jsur = 0.4535055829184996, J01 = 0.3532\n",
      "Gaussian TR: 0.592139120653924\n",
      "Gaussian VA: 0.5677437687844875\n"
     ]
    }
   ],
   "source": [
    "#-z^2/2\n",
    "sig = lambda z: np.atleast_2d(np.exp(-z**2/2))\n",
    "#-z*sig(z)\n",
    "dsig = lambda z: np.atleast_2d(-z*np.exp(-z**2/2))\n",
    "\n",
    "nn = ml.nnet.nnetClassify()\n",
    "nn.init_weights([XtS.shape[1], 5, 2], 'random', XtS, Yt)\n",
    "nn.setActivation('custom', sig, dsig)\n",
    "\n",
    "nn.train(XtS, Yt, stopTol=1e-8, stepsize=.25, stopIter=100)\n",
    "\n",
    "print(\"Gaussian TR: {}\".format(nn.auc(XtS, Yt)))\n",
    "print(\"Gaussian VA: {}\".format(nn.auc(XvS, Yva)))"
   ]
  },
  {
   "cell_type": "code",
   "execution_count": 18,
   "metadata": {},
   "outputs": [
    {
     "name": "stdout",
     "output_type": "stream",
     "text": [
      "it 1 : Jsur = 0.41847919850051474, J01 = 0.3084\n",
      "it 2 : Jsur = 0.4192457854917322, J01 = 0.3092\n",
      "it 4 : Jsur = 0.41997219584324086, J01 = 0.3076\n",
      "it 8 : Jsur = 0.4212755866531008, J01 = 0.3108\n",
      "it 16 : Jsur = 0.42251617627441157, J01 = 0.3144\n",
      "it 32 : Jsur = 0.4235961147905387, J01 = 0.3192\n",
      "it 64 : Jsur = 0.42451467333107473, J01 = 0.3208\n",
      "it 128 : Jsur = 0.4252978910332081, J01 = 0.323\n",
      "it 256 : Jsur = 0.4259730884363456, J01 = 0.3254\n",
      "Logistic TR: 0.6684404483506571\n",
      "Logistic VA: 0.6452506295979438\n"
     ]
    }
   ],
   "source": [
    "nn = ml.nnet.nnetClassify()\n",
    "nn.init_weights([XtS.shape[1], 5, 2], 'random', XtS, Yt)\n",
    "nn.setActivation('logistic')\n",
    "\n",
    "nn.train(XtS, Yt, stopTol=1e-8, stepsize=.25, stopIter=300)\n",
    "\n",
    "print(\"Logistic TR: {}\".format(nn.auc(XtS, Yt)))\n",
    "print(\"Logistic VA: {}\".format(nn.auc(XvS, Yva)))"
   ]
  },
  {
   "cell_type": "code",
   "execution_count": 19,
   "metadata": {},
   "outputs": [
    {
     "name": "stdout",
     "output_type": "stream",
     "text": [
      "it 1 : Jsur = 0.41858203594840854, J01 = 0.3096\n",
      "it 2 : Jsur = 0.4147024542133411, J01 = 0.3072\n",
      "it 4 : Jsur = 0.41302452050199884, J01 = 0.3088\n",
      "it 8 : Jsur = 0.4114630210912319, J01 = 0.306\n",
      "it 16 : Jsur = 0.4093249074387978, J01 = 0.303\n",
      "it 32 : Jsur = 0.4074519989533436, J01 = 0.3014\n",
      "it 64 : Jsur = 0.4062440776062309, J01 = 0.3006\n",
      "it 128 : Jsur = 0.4053724251661586, J01 = 0.3008\n",
      "it 256 : Jsur = 0.40455987263750964, J01 = 0.3018\n",
      "HTangent TR: 0.6899624670211953\n",
      "HTangent VA: 0.6577243447825207\n"
     ]
    }
   ],
   "source": [
    "nn = ml.nnet.nnetClassify()\n",
    "nn.init_weights([XtS.shape[1], 5, 2], 'random', XtS, Yt)\n",
    "nn.setActivation('htangent')\n",
    "\n",
    "nn.train(XtS, Yt, stopTol=1e-8, stepsize=.25, stopIter=300)\n",
    "\n",
    "print(\"HTangent TR: {}\".format(nn.auc(XtS, Yt)))\n",
    "print(\"HTangent VA: {}\".format(nn.auc(XvS, Yva)))"
   ]
  },
  {
   "cell_type": "markdown",
   "metadata": {},
   "source": [
    "Based on these results, I think HTangent is the best, Logistic is the second best, and Gaussian is the worst among these 3 activation functions. I made this decision by ranking TR and VA from highest to lowest."
   ]
  },
  {
   "cell_type": "markdown",
   "metadata": {},
   "source": [
    "# PROBLEM 6  \n",
    "CONCLUSION  \n",
    "I think that the classifier that will perform the best is the decision tree since it ran the fastest as I was doing this homework. I chose minParent = 3, minLeaf = 1 since that's what I got in Problem 4.3. I chose a depth of 20 since it had the highest TR_auc and a decent-ish VA_auc. I tried increasing the depth but my score actually got lower, so I stuck with 20. Kaggle = Marc Raymond Serrano; score = 0.70894"
   ]
  },
  {
   "cell_type": "code",
   "execution_count": 5,
   "metadata": {},
   "outputs": [],
   "source": [
    "import sys\n",
    "import numpy as np\n",
    "import mltools as ml\n",
    "import matplotlib.pyplot as plt\n",
    "\n",
    "#X IS FEATURE; Y IS CLASS\n",
    "# Data Loading\n",
    "X = np.genfromtxt('data/X_train.txt', delimiter=None)\n",
    "Y = np.genfromtxt('data/Y_train.txt', delimiter=None)\n",
    "X,Y = ml.shuffleData(X,Y)\n",
    "\n",
    "Xtr, Xva, Ytr, Yva = ml.splitData(X, Y)\n",
    "#subsamples\n",
    "Xt, Yt = Xtr[:5000], Ytr[:5000] # subsample for efficiency (you can go higher)\n",
    "#rescaled subsample\n",
    "XtS, params = ml.rescale(Xt) # Normalize the features\n",
    "XvS, _ = ml.rescale(Xva, params) # Normalize the features\n",
    "\n",
    "Xte = np.genfromtxt('data/X_test.txt', delimiter=None)\n",
    "k = 3\n",
    "a = 1\n"
   ]
  },
  {
   "cell_type": "code",
   "execution_count": 11,
   "metadata": {},
   "outputs": [
    {
     "name": "stdout",
     "output_type": "stream",
     "text": [
      "Depth = 15, TR_AUC = 0.8995470058124033, VA_AUC = 0.5979404410957956\n",
      "Depth = 20, TR_AUC = 0.9254770792228799, VA_AUC = 0.5973153220099248\n",
      "Depth = 25, TR_AUC = 0.9212262038073908, VA_AUC = 0.5986795502062047\n",
      "Depth = 30, TR_AUC = 0.9110876481985104, VA_AUC = 0.6049783940958467\n",
      "Depth = 35, TR_AUC = 0.8971666755541337, VA_AUC = 0.6067088672630981\n"
     ]
    }
   ],
   "source": [
    "mdarr = [15, 20, 25, 30, 35]\n",
    "\n",
    "tr_auc = np.zeros((len(mdarr)))\n",
    "va_auc = np.zeros((len(mdarr)))\n",
    "\n",
    "for i,k in enumerate(mdarr):\n",
    "    learner = ml.dtree.treeClassify()\n",
    "    learner.train(Xt, Yt, maxDepth = k, minParent = k, minLeaf = a)\n",
    "    tr_auc[i] = learner.auc(Xt, Yt) # train learner using k and a\n",
    "    va_auc[i] = learner.auc(Xva, Yva)\n",
    "    print(\"Depth = {}, TR_AUC = {}, VA_AUC = {}\".format(k, tr_auc[i], va_auc[i]))"
   ]
  },
  {
   "cell_type": "code",
   "execution_count": 15,
   "metadata": {},
   "outputs": [
    {
     "name": "stdout",
     "output_type": "stream",
     "text": [
      "Depth = 500, TR_AUC = 0.7067492312341137, VA_AUC = 0.635616029762195\n",
      "Depth = 1000, TR_AUC = 0.66803880268046, VA_AUC = 0.6367543274574852\n",
      "Depth = 1500, TR_AUC = 0.6559320286531933, VA_AUC = 0.6346776301242373\n",
      "Depth = 2000, TR_AUC = 0.6404872998098082, VA_AUC = 0.6235939079503919\n"
     ]
    }
   ],
   "source": [
    "mdarr2 = [500, 1000, 1500, 2000]\n",
    "\n",
    "tr_auc = np.zeros((len(mdarr)))\n",
    "va_auc = np.zeros((len(mdarr)))\n",
    "\n",
    "for i,k in enumerate(mdarr2):\n",
    "    learner = ml.dtree.treeClassify()\n",
    "    learner.train(Xt, Yt, maxDepth = k, minParent = k, minLeaf = a)\n",
    "    tr_auc[i] = learner.auc(Xt, Yt) # train learner using k and a\n",
    "    va_auc[i] = learner.auc(Xva, Yva)\n",
    "    print(\"Depth = {}, TR_AUC = {}, VA_AUC = {}\".format(k, tr_auc[i], va_auc[i]))"
   ]
  },
  {
   "cell_type": "code",
   "execution_count": 16,
   "metadata": {},
   "outputs": [
    {
     "name": "stdout",
     "output_type": "stream",
     "text": [
      "Depth = 1000, TR_AUC = 0.66803880268046, VA_AUC = 0.6367543274574852\n",
      "Depth = 1100, TR_AUC = 0.6621891608453758, VA_AUC = 0.6375631544163102\n",
      "Depth = 1200, TR_AUC = 0.6621891608453758, VA_AUC = 0.6375631544163102\n",
      "Depth = 1300, TR_AUC = 0.660730638653371, VA_AUC = 0.6364793697181012\n",
      "Depth = 1400, TR_AUC = 0.6559320286531933, VA_AUC = 0.6346776301242373\n"
     ]
    }
   ],
   "source": [
    "mdarr2 = [1000, 1100, 1200, 1300, 1400]\n",
    "\n",
    "tr_auc = np.zeros((len(mdarr)))\n",
    "va_auc = np.zeros((len(mdarr)))\n",
    "\n",
    "for i,k in enumerate(mdarr2):\n",
    "    learner = ml.dtree.treeClassify()\n",
    "    learner.train(Xt, Yt, maxDepth = k, minParent = k, minLeaf = a)\n",
    "    tr_auc[i] = learner.auc(Xt, Yt) # train learner using k and a\n",
    "    va_auc[i] = learner.auc(Xva, Yva)\n",
    "    print(\"Depth = {}, TR_AUC = {}, VA_AUC = {}\".format(k, tr_auc[i], va_auc[i]))"
   ]
  },
  {
   "cell_type": "code",
   "execution_count": 17,
   "metadata": {},
   "outputs": [],
   "source": [
    "#submission 2\n",
    "learner = ml.dtree.treeClassify()\n",
    "learner.train(X, Y, maxDepth = 1100, minParent = k, minLeaf = a)\n",
    "Yte = np.vstack((np.arange(Xte.shape[0]), learner.predictSoft(Xte)[:,1])).T\n",
    "np.savetxt('Y_submit2.txt', Yte, '%d, %.2f', header='ID,Prob1', comments='', delimiter=',')"
   ]
  },
  {
   "cell_type": "code",
   "execution_count": null,
   "metadata": {},
   "outputs": [],
   "source": [
    "#submission 1\n",
    "learner = ml.dtree.treeClassify()\n",
    "learner.train(X, Y, maxDepth = 20, minParent = k, minLeaf = a)\n",
    "Yte = np.vstack((np.arange(Xte.shape[0]), learner.predictSoft(Xte)[:,1])).T\n",
    "np.savetxt('Y_submit.txt', Yte, '%d, %.2f', header='ID,Prob1', comments='', delimiter=',')"
   ]
  },
  {
   "cell_type": "markdown",
   "metadata": {},
   "source": [
    "# Statement of Collaboration  \n",
    "I used Google, lecture slides, and previous good homework submissions provided to us. I used the official scipy/numpy documentation, geeksforgeeks.org, and some of the official Jupyter Notebook documentation (didn't realize variables in previously ran cells can carry over). I used some (read: a lot of) Piazza help as well.  \n",
    "I collaborated with Kevin De Jesus and Julian Andrews as well."
   ]
  }
 ],
 "metadata": {
  "kernelspec": {
   "display_name": "Python 3",
   "language": "python",
   "name": "python3"
  },
  "language_info": {
   "codemirror_mode": {
    "name": "ipython",
    "version": 3
   },
   "file_extension": ".py",
   "mimetype": "text/x-python",
   "name": "python",
   "nbconvert_exporter": "python",
   "pygments_lexer": "ipython3",
   "version": "3.7.3"
  }
 },
 "nbformat": 4,
 "nbformat_minor": 2
}
